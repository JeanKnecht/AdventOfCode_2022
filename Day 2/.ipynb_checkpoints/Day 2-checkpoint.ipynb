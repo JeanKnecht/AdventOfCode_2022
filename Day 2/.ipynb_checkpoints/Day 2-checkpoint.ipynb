{
 "cells": [
  {
   "cell_type": "code",
   "execution_count": 1,
   "id": "0db78ec6",
   "metadata": {},
   "outputs": [],
   "source": [
    "def toon_bestand(input_path):\n",
    "    with open(input_path, 'r') as ifp:\n",
    "        for line in ifp:\n",
    "            print(line, end = '')"
   ]
  },
  {
   "cell_type": "code",
   "execution_count": 22,
   "id": "677400ff",
   "metadata": {},
   "outputs": [],
   "source": [
    "def RPS(input_path):\n",
    "    with open(input_path, 'r') as ifp:\n",
    "        l_points = {'X':1, 'Y':2, 'Z':3}\n",
    "        l_win= {'A':'Y', 'B':'Z', 'C':'X'}\n",
    "        l_draw = {'A':'X', 'B':'Y', 'C':'Z'}\n",
    "        l_outcome = {'X':0, 'Y':3, 'Z':6}\n",
    "        s = [line[:-1].split(\" \") for line in ifp]\n",
    "        points = []\n",
    "        for i in s:\n",
    "            if(i[1] == l_win[i[0]]):\n",
    "                points.append(6+l_points[i[1]])\n",
    "                continue\n",
    "            elif(i[1] == l_draw[i[0]]):\n",
    "                points.append(3+l_points[i[1]])\n",
    "                continue\n",
    "            points.append(l_points[i[1]])\n",
    "            \n",
    "    return sum(points)"
   ]
  },
  {
   "cell_type": "code",
   "execution_count": 23,
   "id": "3a4c43ee",
   "metadata": {},
   "outputs": [
    {
     "data": {
      "text/plain": [
       "10624"
      ]
     },
     "execution_count": 23,
     "metadata": {},
     "output_type": "execute_result"
    }
   ],
   "source": [
    "RPS(\"input.txt\")"
   ]
  },
  {
   "cell_type": "code",
   "execution_count": null,
   "id": "876f528c",
   "metadata": {},
   "outputs": [],
   "source": []
  }
 ],
 "metadata": {
  "kernelspec": {
   "display_name": "Python 3 (ipykernel)",
   "language": "python",
   "name": "python3"
  },
  "language_info": {
   "codemirror_mode": {
    "name": "ipython",
    "version": 3
   },
   "file_extension": ".py",
   "mimetype": "text/x-python",
   "name": "python",
   "nbconvert_exporter": "python",
   "pygments_lexer": "ipython3",
   "version": "3.9.12"
  }
 },
 "nbformat": 4,
 "nbformat_minor": 5
}
