{
 "cells": [
  {
   "cell_type": "code",
   "execution_count": 1,
   "id": "30fcd326",
   "metadata": {},
   "outputs": [],
   "source": [
    "def toon_bestand(input_path):\n",
    "    with open(input_path, 'r') as ifp:\n",
    "        for line in ifp:\n",
    "            print(line, end = '')"
   ]
  },
  {
   "cell_type": "code",
   "execution_count": 54,
   "id": "6c8d46ef",
   "metadata": {},
   "outputs": [],
   "source": [
    "#part 1\n",
    "def calories(input_path):\n",
    "    with open(input_path, \"r\") as ifp:\n",
    "        calorie = []\n",
    "        sub = []\n",
    "        for line in ifp:\n",
    "            try:\n",
    "                sub.append(int(line[:-1]))\n",
    "            except ValueError:\n",
    "                calorie.append(sub)\n",
    "                sub = []\n",
    "    #return max([sum(i) for i in calorie])\n",
    "#part 2\n",
    "    return sum((sorted([sum(i) for i in calorie]))[-3:])"
   ]
  },
  {
   "cell_type": "code",
   "execution_count": 55,
   "id": "ae9edc70",
   "metadata": {},
   "outputs": [
    {
     "data": {
      "text/plain": [
       "215594"
      ]
     },
     "execution_count": 55,
     "metadata": {},
     "output_type": "execute_result"
    }
   ],
   "source": [
    "calories('input.txt')"
   ]
  },
  {
   "cell_type": "code",
   "execution_count": null,
   "id": "16bf01ab",
   "metadata": {},
   "outputs": [],
   "source": []
  }
 ],
 "metadata": {
  "kernelspec": {
   "display_name": "Python 3 (ipykernel)",
   "language": "python",
   "name": "python3"
  },
  "language_info": {
   "codemirror_mode": {
    "name": "ipython",
    "version": 3
   },
   "file_extension": ".py",
   "mimetype": "text/x-python",
   "name": "python",
   "nbconvert_exporter": "python",
   "pygments_lexer": "ipython3",
   "version": "3.9.12"
  }
 },
 "nbformat": 4,
 "nbformat_minor": 5
}
