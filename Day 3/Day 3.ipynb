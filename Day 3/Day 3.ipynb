{
 "cells": [
  {
   "cell_type": "code",
   "execution_count": 15,
   "id": "b914dcce",
   "metadata": {},
   "outputs": [],
   "source": [
    "def toon_bestand(input_path):\n",
    "    with open(input_path, 'r') as ifp:\n",
    "        for line in ifp:\n",
    "            print(line, end = '')"
   ]
  },
  {
   "cell_type": "code",
   "execution_count": null,
   "id": "3ed056c9",
   "metadata": {},
   "outputs": [],
   "source": [
    "p = lambda x: (ord(str(x))-96)* x.islower() + (ord(str(x))-38) * x.isupper()"
   ]
  },
  {
   "cell_type": "code",
   "execution_count": 56,
   "id": "365b6ae9",
   "metadata": {},
   "outputs": [],
   "source": [
    "def rugsack(input_path, p):\n",
    "    sumR = 0\n",
    "    with open(input_path, 'r') as ifp:\n",
    "        lists = [line[:-1] for line in ifp]\n",
    "    for e in lists:\n",
    "        l = int(len(e)/2)\n",
    "        for i in e[:l]:\n",
    "            #sumR += p(i) * (i in e[l:])\n",
    "            if i in e[l:]:\n",
    "                sumR += p(i)\n",
    "                break\n",
    "    return sumR"
   ]
  },
  {
   "cell_type": "code",
   "execution_count": 58,
   "id": "d09fc1ea",
   "metadata": {},
   "outputs": [
    {
     "data": {
      "text/plain": [
       "7795"
      ]
     },
     "execution_count": 58,
     "metadata": {},
     "output_type": "execute_result"
    }
   ],
   "source": [
    "rugsack('input.txt', p)"
   ]
  },
  {
   "cell_type": "code",
   "execution_count": null,
   "id": "fc2d5cef",
   "metadata": {},
   "outputs": [],
   "source": [
    "#for i in lists:\n",
    "    #    if len(i) % 2 != 0:\n",
    "    #        print(i)"
   ]
  },
  {
   "cell_type": "code",
   "execution_count": 43,
   "id": "02e927b8",
   "metadata": {},
   "outputs": [
    {
     "data": {
      "text/plain": [
       "42"
      ]
     },
     "execution_count": 43,
     "metadata": {},
     "output_type": "execute_result"
    }
   ],
   "source": [
    "p('P')"
   ]
  },
  {
   "cell_type": "code",
   "execution_count": 94,
   "id": "e2675804",
   "metadata": {},
   "outputs": [],
   "source": [
    "#part 2\n",
    "def rugsack(input_path, p):\n",
    "    sumR = 0\n",
    "    with open(input_path, 'r') as ifp:\n",
    "        lists = [line[:-1] for line in ifp]\n",
    "    for i in range(0,len(lists), 3):\n",
    "        l = [lists[i], lists[i+1], lists[i+2]]\n",
    "        for e in l[0]:\n",
    "            if e in l[1] and e in l[2]:\n",
    "                sumR += p(e)\n",
    "                break\n",
    "    return sumR"
   ]
  },
  {
   "cell_type": "code",
   "execution_count": 95,
   "id": "266e9a3e",
   "metadata": {},
   "outputs": [
    {
     "data": {
      "text/plain": [
       "2703"
      ]
     },
     "execution_count": 95,
     "metadata": {},
     "output_type": "execute_result"
    }
   ],
   "source": [
    "rugsack('input.txt', p)"
   ]
  },
  {
   "cell_type": "code",
   "execution_count": null,
   "id": "28a433ff",
   "metadata": {},
   "outputs": [],
   "source": []
  }
 ],
 "metadata": {
  "kernelspec": {
   "display_name": "Python 3 (ipykernel)",
   "language": "python",
   "name": "python3"
  },
  "language_info": {
   "codemirror_mode": {
    "name": "ipython",
    "version": 3
   },
   "file_extension": ".py",
   "mimetype": "text/x-python",
   "name": "python",
   "nbconvert_exporter": "python",
   "pygments_lexer": "ipython3",
   "version": "3.9.12"
  }
 },
 "nbformat": 4,
 "nbformat_minor": 5
}
